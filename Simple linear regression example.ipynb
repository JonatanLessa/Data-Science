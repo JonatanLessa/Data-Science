{
 "cells": [
  {
   "cell_type": "code",
   "execution_count": 2,
   "id": "a4ada172",
   "metadata": {},
   "outputs": [],
   "source": [
    "import pandas as pd\n",
    "import numpy as np\n",
    "import matplotlib.pyplot as plt\n",
    "from sklearn.linear_model import LinearRegression\n",
    "from yellowbrick.regressor import ResidualsPlot"
   ]
  },
  {
   "cell_type": "code",
   "execution_count": 3,
   "id": "322ac4ca",
   "metadata": {},
   "outputs": [
    {
     "data": {
      "text/plain": [
       "(414, 8)"
      ]
     },
     "execution_count": 3,
     "metadata": {},
     "output_type": "execute_result"
    }
   ],
   "source": [
    "base = pd.read_csv('Real_estate.csv')\n",
    "base.shape"
   ]
  },
  {
   "cell_type": "code",
   "execution_count": 5,
   "id": "0489bd43",
   "metadata": {},
   "outputs": [
    {
     "data": {
      "text/html": [
       "<div>\n",
       "<style scoped>\n",
       "    .dataframe tbody tr th:only-of-type {\n",
       "        vertical-align: middle;\n",
       "    }\n",
       "\n",
       "    .dataframe tbody tr th {\n",
       "        vertical-align: top;\n",
       "    }\n",
       "\n",
       "    .dataframe thead th {\n",
       "        text-align: right;\n",
       "    }\n",
       "</style>\n",
       "<table border=\"1\" class=\"dataframe\">\n",
       "  <thead>\n",
       "    <tr style=\"text-align: right;\">\n",
       "      <th></th>\n",
       "      <th>No</th>\n",
       "      <th>X1 transaction date</th>\n",
       "      <th>X2 house age</th>\n",
       "      <th>X3 distance to the nearest MRT station</th>\n",
       "      <th>X4 number of convenience stores</th>\n",
       "      <th>X5 latitude</th>\n",
       "      <th>X6 longitude</th>\n",
       "      <th>Y house price of unit area</th>\n",
       "    </tr>\n",
       "  </thead>\n",
       "  <tbody>\n",
       "    <tr>\n",
       "      <th>0</th>\n",
       "      <td>1</td>\n",
       "      <td>2012.917</td>\n",
       "      <td>32.0</td>\n",
       "      <td>84.87882</td>\n",
       "      <td>10</td>\n",
       "      <td>24.98298</td>\n",
       "      <td>121.54024</td>\n",
       "      <td>37.9</td>\n",
       "    </tr>\n",
       "    <tr>\n",
       "      <th>1</th>\n",
       "      <td>2</td>\n",
       "      <td>2012.917</td>\n",
       "      <td>19.5</td>\n",
       "      <td>306.59470</td>\n",
       "      <td>9</td>\n",
       "      <td>24.98034</td>\n",
       "      <td>121.53951</td>\n",
       "      <td>42.2</td>\n",
       "    </tr>\n",
       "    <tr>\n",
       "      <th>2</th>\n",
       "      <td>3</td>\n",
       "      <td>2013.583</td>\n",
       "      <td>13.3</td>\n",
       "      <td>561.98450</td>\n",
       "      <td>5</td>\n",
       "      <td>24.98746</td>\n",
       "      <td>121.54391</td>\n",
       "      <td>47.3</td>\n",
       "    </tr>\n",
       "    <tr>\n",
       "      <th>3</th>\n",
       "      <td>4</td>\n",
       "      <td>2013.500</td>\n",
       "      <td>13.3</td>\n",
       "      <td>561.98450</td>\n",
       "      <td>5</td>\n",
       "      <td>24.98746</td>\n",
       "      <td>121.54391</td>\n",
       "      <td>54.8</td>\n",
       "    </tr>\n",
       "    <tr>\n",
       "      <th>4</th>\n",
       "      <td>5</td>\n",
       "      <td>2012.833</td>\n",
       "      <td>5.0</td>\n",
       "      <td>390.56840</td>\n",
       "      <td>5</td>\n",
       "      <td>24.97937</td>\n",
       "      <td>121.54245</td>\n",
       "      <td>43.1</td>\n",
       "    </tr>\n",
       "  </tbody>\n",
       "</table>\n",
       "</div>"
      ],
      "text/plain": [
       "   No  X1 transaction date  X2 house age  \\\n",
       "0   1             2012.917          32.0   \n",
       "1   2             2012.917          19.5   \n",
       "2   3             2013.583          13.3   \n",
       "3   4             2013.500          13.3   \n",
       "4   5             2012.833           5.0   \n",
       "\n",
       "   X3 distance to the nearest MRT station  X4 number of convenience stores  \\\n",
       "0                                84.87882                               10   \n",
       "1                               306.59470                                9   \n",
       "2                               561.98450                                5   \n",
       "3                               561.98450                                5   \n",
       "4                               390.56840                                5   \n",
       "\n",
       "   X5 latitude  X6 longitude  Y house price of unit area  \n",
       "0     24.98298     121.54024                        37.9  \n",
       "1     24.98034     121.53951                        42.2  \n",
       "2     24.98746     121.54391                        47.3  \n",
       "3     24.98746     121.54391                        54.8  \n",
       "4     24.97937     121.54245                        43.1  "
      ]
     },
     "execution_count": 5,
     "metadata": {},
     "output_type": "execute_result"
    }
   ],
   "source": [
    "base.head()"
   ]
  },
  {
   "cell_type": "code",
   "execution_count": 6,
   "id": "6e0e00b1",
   "metadata": {},
   "outputs": [
    {
     "data": {
      "text/html": [
       "<div>\n",
       "<style scoped>\n",
       "    .dataframe tbody tr th:only-of-type {\n",
       "        vertical-align: middle;\n",
       "    }\n",
       "\n",
       "    .dataframe tbody tr th {\n",
       "        vertical-align: top;\n",
       "    }\n",
       "\n",
       "    .dataframe thead th {\n",
       "        text-align: right;\n",
       "    }\n",
       "</style>\n",
       "<table border=\"1\" class=\"dataframe\">\n",
       "  <thead>\n",
       "    <tr style=\"text-align: right;\">\n",
       "      <th></th>\n",
       "      <th>X1 transaction date</th>\n",
       "      <th>X2 house age</th>\n",
       "      <th>X3 distance to the nearest MRT station</th>\n",
       "      <th>X4 number of convenience stores</th>\n",
       "      <th>X5 latitude</th>\n",
       "      <th>X6 longitude</th>\n",
       "      <th>Y house price of unit area</th>\n",
       "    </tr>\n",
       "  </thead>\n",
       "  <tbody>\n",
       "    <tr>\n",
       "      <th>0</th>\n",
       "      <td>2012.917</td>\n",
       "      <td>32.0</td>\n",
       "      <td>84.87882</td>\n",
       "      <td>10</td>\n",
       "      <td>24.98298</td>\n",
       "      <td>121.54024</td>\n",
       "      <td>37.9</td>\n",
       "    </tr>\n",
       "    <tr>\n",
       "      <th>1</th>\n",
       "      <td>2012.917</td>\n",
       "      <td>19.5</td>\n",
       "      <td>306.59470</td>\n",
       "      <td>9</td>\n",
       "      <td>24.98034</td>\n",
       "      <td>121.53951</td>\n",
       "      <td>42.2</td>\n",
       "    </tr>\n",
       "    <tr>\n",
       "      <th>2</th>\n",
       "      <td>2013.583</td>\n",
       "      <td>13.3</td>\n",
       "      <td>561.98450</td>\n",
       "      <td>5</td>\n",
       "      <td>24.98746</td>\n",
       "      <td>121.54391</td>\n",
       "      <td>47.3</td>\n",
       "    </tr>\n",
       "    <tr>\n",
       "      <th>3</th>\n",
       "      <td>2013.500</td>\n",
       "      <td>13.3</td>\n",
       "      <td>561.98450</td>\n",
       "      <td>5</td>\n",
       "      <td>24.98746</td>\n",
       "      <td>121.54391</td>\n",
       "      <td>54.8</td>\n",
       "    </tr>\n",
       "    <tr>\n",
       "      <th>4</th>\n",
       "      <td>2012.833</td>\n",
       "      <td>5.0</td>\n",
       "      <td>390.56840</td>\n",
       "      <td>5</td>\n",
       "      <td>24.97937</td>\n",
       "      <td>121.54245</td>\n",
       "      <td>43.1</td>\n",
       "    </tr>\n",
       "  </tbody>\n",
       "</table>\n",
       "</div>"
      ],
      "text/plain": [
       "   X1 transaction date  X2 house age  X3 distance to the nearest MRT station  \\\n",
       "0             2012.917          32.0                                84.87882   \n",
       "1             2012.917          19.5                               306.59470   \n",
       "2             2013.583          13.3                               561.98450   \n",
       "3             2013.500          13.3                               561.98450   \n",
       "4             2012.833           5.0                               390.56840   \n",
       "\n",
       "   X4 number of convenience stores  X5 latitude  X6 longitude  \\\n",
       "0                               10     24.98298     121.54024   \n",
       "1                                9     24.98034     121.53951   \n",
       "2                                5     24.98746     121.54391   \n",
       "3                                5     24.98746     121.54391   \n",
       "4                                5     24.97937     121.54245   \n",
       "\n",
       "   Y house price of unit area  \n",
       "0                        37.9  \n",
       "1                        42.2  \n",
       "2                        47.3  \n",
       "3                        54.8  \n",
       "4                        43.1  "
      ]
     },
     "execution_count": 6,
     "metadata": {},
     "output_type": "execute_result"
    }
   ],
   "source": [
    "base = base.drop(['No'], axis = 1)\n",
    "base.head()"
   ]
  },
  {
   "cell_type": "code",
   "execution_count": 26,
   "id": "3c3f494a",
   "metadata": {},
   "outputs": [],
   "source": [
    "X = base.iloc[:, 2].values\n",
    "y = base.iloc[:, 6].values"
   ]
  },
  {
   "cell_type": "code",
   "execution_count": 27,
   "id": "fe144d3d",
   "metadata": {},
   "outputs": [
    {
     "data": {
      "text/plain": [
       "array([  84.87882,  306.5947 ,  561.9845 ,  561.9845 ,  390.5684 ,\n",
       "       2175.03   ,  623.4731 ,  287.6025 , 5512.038  , 1783.18   ,\n",
       "        405.2134 ,   90.45606,  492.2313 , 2469.645  , 1164.838  ,\n",
       "        579.2083 ,  292.9978 ,  350.8515 ,  368.1363 ,   23.38284,\n",
       "       2275.877  ,  279.1726 , 1360.139  ,  279.1726 ,  480.6977 ,\n",
       "       1487.868  ,  383.8624 ,  276.449  ,  557.478  ,  451.2438 ,\n",
       "       4519.69   ,  769.4034 ,  488.5727 ,  323.655  ,  205.367  ,\n",
       "       4079.418  , 1935.009  , 1360.139  ,  577.9615 ,  289.3248 ,\n",
       "       4082.015  , 4066.587  ,  519.4617 ,  512.7871 ,  533.4762 ,\n",
       "        488.8193 ,  463.9623 ,  640.7391 , 4605.749  , 4510.359  ,\n",
       "        512.5487 , 1758.406  , 1438.579  ,  492.2313 ,  289.3248 ,\n",
       "       1160.632  ,  371.2495 ,   56.47425, 4510.359  ,  336.0532 ,\n",
       "       1931.207  ,  259.6607 , 2175.877  ,  533.4762 ,  995.7554 ,\n",
       "        123.7429 ,  193.5845 ,  104.8101 ,  464.223  ,  561.9845 ,\n",
       "         90.45606,  640.7391 ,  424.5442 , 4082.015  ,  379.5575 ,\n",
       "       1360.139  ,  616.4004 , 2185.128  ,  552.4371 , 1414.837  ,\n",
       "        533.4762 ,  377.7956 ,  150.9347 , 2707.392  ,  383.2805 ,\n",
       "        338.9679 , 1455.798  , 4066.587  , 1406.43   , 3947.945  ,\n",
       "        274.0144 , 1402.016  , 2469.645  , 1146.329  ,  167.5989 ,\n",
       "        104.8101 ,   90.45606,  617.4424 ,  289.3248 ,   90.45606,\n",
       "        964.7496 ,  170.1289 ,  193.5845 ,  208.3905 ,  392.4459 ,\n",
       "        292.9978 ,  189.5181 , 1360.139  ,  592.5006 , 2147.376  ,\n",
       "        104.8101 ,  196.6172 , 2102.427  ,  393.2606 ,  143.8383 ,\n",
       "        737.9161 , 6396.283  , 4197.349  , 1583.722  ,  289.3248 ,\n",
       "        492.2313 ,  492.2313 ,  414.9476 ,  185.4296 ,  279.1726 ,\n",
       "        193.5845 ,  804.6897 ,  383.8624 ,  124.9912 ,  216.8329 ,\n",
       "        535.527  , 2147.376  ,  482.7581 ,  373.3937 ,  186.9686 ,\n",
       "       1009.235  ,  390.5684 ,  319.0708 ,  942.4664 ,  492.2313 ,\n",
       "        289.3248 , 1559.827  ,  640.6071 ,  492.2313 , 1360.139  ,\n",
       "        451.2438 ,  185.4296 ,  489.8821 , 3780.59   ,  179.4538 ,\n",
       "        170.7311 ,  387.7721 , 1360.139  ,  376.1709 , 4066.587  ,\n",
       "       4082.015  , 1264.73   ,  815.9314 ,  390.5684 ,  815.9314 ,\n",
       "         49.66105,  616.4004 , 4066.587  ,  104.8101 ,  185.4296 ,\n",
       "       1236.564  ,  292.9978 ,  330.0854 ,  515.1122 , 1962.628  ,\n",
       "       4527.687  ,  383.8624 ,   90.45606,  401.8807 ,  432.0385 ,\n",
       "        472.1745 , 4573.779  ,  181.0766 , 1144.436  ,  438.8513 ,\n",
       "       4449.27   ,  201.8939 , 2147.376  , 4082.015  , 2615.465  ,\n",
       "       1447.286  , 2185.128  , 3078.176  ,  190.0392 , 4066.587  ,\n",
       "        616.5735 ,  750.0704 ,   57.58945,  421.479  , 3771.895  ,\n",
       "        461.1016 ,  707.9067 ,  126.7286 ,  157.6052 ,  451.6419 ,\n",
       "        995.7554 ,  561.9845 ,  642.6985 ,  289.3248 , 1414.837  ,\n",
       "       1449.722  ,  379.5575 ,  665.0636 , 1360.139  ,  175.6294 ,\n",
       "        390.5684 ,  274.0144 , 1805.665  ,   90.45606, 1783.18   ,\n",
       "        383.7129 ,  590.9292 ,  372.6242 ,  492.2313 ,  529.7771 ,\n",
       "        186.5101 , 1402.016  ,  431.1114 , 1402.016  ,  324.9419 ,\n",
       "        193.5845 , 4082.015  ,  265.0609 , 3171.329  , 1156.412  ,\n",
       "       2147.376  , 4074.736  , 4412.765  ,  333.3679 , 2216.612  ,\n",
       "        250.631  ,  373.8389 ,  732.8528 ,  732.8528 ,  837.7233 ,\n",
       "       1712.632  ,  250.631  , 2077.39   ,  204.1705 , 1559.827  ,\n",
       "        639.6198 ,  389.8219 , 1055.067  , 1009.235  , 6306.153  ,\n",
       "        424.7132 , 1159.454  ,   90.45606, 1735.595  ,  329.9747 ,\n",
       "       5512.038  ,  339.2289 ,  444.1334 ,  292.9978 ,  837.7233 ,\n",
       "       1485.097  , 2288.011  ,  289.3248 , 2147.376  ,  493.657  ,\n",
       "        815.9314 , 1783.18   ,  482.7581 ,  390.5684 ,  837.7233 ,\n",
       "        252.5822 ,  451.6419 ,  492.2313 ,  170.1289 ,  394.0173 ,\n",
       "         23.38284,  461.1016 , 2185.128  ,  208.3905 , 1554.25   ,\n",
       "        184.3302 ,  387.7721 , 1455.798  , 1978.671  ,  383.2805 ,\n",
       "        718.2937 ,   90.45606,  461.1016 ,  323.6912 ,  289.3248 ,\n",
       "        490.3446 ,   56.47425,  395.6747 ,  383.2805 ,  335.5273 ,\n",
       "       2179.59   , 1144.436  ,  567.0349 , 4082.015  ,  121.7262 ,\n",
       "        156.2442 ,  461.7848 , 2288.011  ,  439.7105 , 1626.083  ,\n",
       "        289.3248 ,  169.9803 , 3079.89   ,  289.3248 , 1264.73   ,\n",
       "       1643.499  ,  537.7971 ,  318.5292 ,  104.8101 ,  577.9615 ,\n",
       "       1756.411  ,  250.631  ,  752.7669 ,  379.5575 ,  272.6783 ,\n",
       "       4197.349  ,  964.7496 ,  187.4823 ,  197.1338 , 1712.632  ,\n",
       "        488.8193 ,   56.47425,  757.3377 , 1497.713  , 4197.349  ,\n",
       "       1156.777  , 4519.69   ,  617.7134 ,  104.8101 , 1013.341  ,\n",
       "        337.6016 , 1867.233  ,  600.8604 ,  258.186  ,  329.9747 ,\n",
       "        270.8895 ,  750.0704 ,   90.45606,  563.2854 , 3085.17   ,\n",
       "        185.4296 , 1712.632  , 6488.021  ,  259.6607 ,  104.8101 ,\n",
       "        492.2313 , 2180.245  , 2674.961  , 2147.376  , 1360.139  ,\n",
       "        383.8624 ,  211.4473 ,  338.9679 ,  193.5845 , 2408.993  ,\n",
       "         87.30222,  281.205  ,  967.4    ,  109.9455 ,  614.1394 ,\n",
       "       2261.432  , 1801.544  , 1828.319  ,  350.8515 , 2185.128  ,\n",
       "        289.3248 ,  312.8963 ,  157.6052 ,  274.0144 ,  390.5684 ,\n",
       "       1157.988  , 1717.193  ,   49.66105,  587.8877 ,  292.9978 ,\n",
       "        289.3248 ,  132.5469 , 3529.564  ,  506.1144 , 4066.587  ,\n",
       "         82.88643,  185.4296 , 2103.555  , 2251.938  ,  122.3619 ,\n",
       "        377.8302 , 1939.749  ,  443.802  ,  967.4    , 4136.271  ,\n",
       "        512.5487 ,  918.6357 , 1164.838  , 1717.193  ,  170.1289 ,\n",
       "        482.7581 , 2175.03   ,  187.4823 ,  161.942  ,  289.3248 ,\n",
       "        130.9945 ,  372.1386 , 2408.993  , 2175.744  , 4082.015  ,\n",
       "         90.45606,  390.9696 ,  104.8101 ,   90.45606])"
      ]
     },
     "execution_count": 27,
     "metadata": {},
     "output_type": "execute_result"
    }
   ],
   "source": [
    "X\n",
    "#y"
   ]
  },
  {
   "cell_type": "code",
   "execution_count": 28,
   "id": "c5f3cedc",
   "metadata": {},
   "outputs": [
    {
     "data": {
      "text/plain": [
       "array([[ 1.        , -0.67361286],\n",
       "       [-0.67361286,  1.        ]])"
      ]
     },
     "execution_count": 28,
     "metadata": {},
     "output_type": "execute_result"
    }
   ],
   "source": [
    "correlation = np.corrcoef(X, y)\n",
    "correlation"
   ]
  },
  {
   "cell_type": "code",
   "execution_count": 29,
   "id": "16f61805",
   "metadata": {},
   "outputs": [
    {
     "data": {
      "text/plain": [
       "LinearRegression()"
      ]
     },
     "execution_count": 29,
     "metadata": {},
     "output_type": "execute_result"
    }
   ],
   "source": [
    "X = X.reshape(-1, 1)\n",
    "model = LinearRegression()\n",
    "model.fit(X, y)"
   ]
  },
  {
   "cell_type": "code",
   "execution_count": 31,
   "id": "34a11c08",
   "metadata": {},
   "outputs": [
    {
     "data": {
      "text/plain": [
       "45.851427057774984"
      ]
     },
     "execution_count": 31,
     "metadata": {},
     "output_type": "execute_result"
    }
   ],
   "source": [
    "model.intercept_"
   ]
  },
  {
   "cell_type": "code",
   "execution_count": 32,
   "id": "41e5523c",
   "metadata": {},
   "outputs": [
    {
     "data": {
      "text/plain": [
       "array([-0.00726205])"
      ]
     },
     "execution_count": 32,
     "metadata": {},
     "output_type": "execute_result"
    }
   ],
   "source": [
    "model.coef_"
   ]
  },
  {
   "cell_type": "code",
   "execution_count": 33,
   "id": "7bba3c8e",
   "metadata": {},
   "outputs": [
    {
     "data": {
      "text/plain": [
       "[<matplotlib.lines.Line2D at 0x180b2ebad90>]"
      ]
     },
     "execution_count": 33,
     "metadata": {},
     "output_type": "execute_result"
    },
    {
     "data": {
      "image/png": "[encoded data removed]",
      "text/plain": [
       "<Figure size 800x550 with 1 Axes>"
      ]
     },
     "metadata": {},
     "output_type": "display_data"
    }
   ],
   "source": [
    "plt.scatter(X, y)\n",
    "plt.plot(X, model.predict(X), color = 'red')"
   ]
  },
  {
   "cell_type": "code",
   "execution_count": 39,
   "id": "bc9a6eeb",
   "metadata": {},
   "outputs": [
    {
     "data": {
      "text/plain": [
       "array([31.32732382])"
      ]
     },
     "execution_count": 39,
     "metadata": {},
     "output_type": "execute_result"
    }
   ],
   "source": [
    "#model.intercept_ + model.coef_ * 2000\n",
    "model.predict([[2000]])"
   ]
  },
  {
   "cell_type": "code",
   "execution_count": 40,
   "id": "528e2e97",
   "metadata": {},
   "outputs": [
    {
     "data": {
      "image/png": "[encoded data removed]",
      "text/plain": [
       "<Figure size 800x550 with 2 Axes>"
      ]
     },
     "metadata": {},
     "output_type": "display_data"
    },
    {
     "data": {
      "text/plain": [
       "<AxesSubplot:title={'center':'Residuals for LinearRegression Model'}, xlabel='Predicted Value', ylabel='Residuals'>"
      ]
     },
     "execution_count": 40,
     "metadata": {},
     "output_type": "execute_result"
    }
   ],
   "source": [
    "res = ResidualsPlot(model)\n",
    "res.fit(X, y)\n",
    "res.poof()"
   ]
  }
 ],
 "metadata": {
  "kernelspec": {
   "display_name": "Python 3 (ipykernel)",
   "language": "python",
   "name": "python3"
  },
  "language_info": {
   "codemirror_mode": {
    "name": "ipython",
    "version": 3
   },
   "file_extension": ".py",
   "mimetype": "text/x-python",
   "name": "python",
   "nbconvert_exporter": "python",
   "pygments_lexer": "ipython3",
   "version": "3.9.13"
  }
 },
 "nbformat": 4,
 "nbformat_minor": 5
}
